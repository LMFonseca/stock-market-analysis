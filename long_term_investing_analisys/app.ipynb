{
 "cells": [
  {
   "attachments": {},
   "cell_type": "markdown",
   "metadata": {},
   "source": [
    "# Long-term investment results\n",
    "This notebook presents the analysis of the last 30 years (1993-2022) of the following stock exchanges: \n",
    "- SP500 (USA)\n",
    "- Euro Stoxx 50 (European Union)\n",
    "- Shanghai Stock Exchange (China)\n",
    "- Nikkei 225 (Japan)\n",
    "\n",
    "The goal is to understand the result of someone investing $500 in these markets on the first business day of each month."
   ]
  },
  {
   "cell_type": "code",
   "execution_count": 1,
   "metadata": {},
   "outputs": [],
   "source": [
    "import os\n",
    "import pandas as pd"
   ]
  },
  {
   "cell_type": "code",
   "execution_count": 42,
   "metadata": {},
   "outputs": [],
   "source": [
    "def csv_to_df_transformer(cvs_file_path: str) -> pd.DataFrame:\n",
    "    df = pd.read_csv(cvs_file_path, usecols=[0, 1], header=0, parse_dates=[\"Date\"])\n",
    "    \n",
    "    df[\"date\"] = pd.to_datetime(df[\"Date\"])\n",
    "    df.rename(columns={\" Open\": \"price\"}, inplace=True)\n",
    "\n",
    "    # Keep only the price of the first day of the month\n",
    "    df = df.resample(\"M\", on=\"date\").first().dropna().reset_index(drop=True)\n",
    "\n",
    "    # Calculate how many shares can be purchased if invest $500 each month\n",
    "    df[\"shares_purchased\"] = round(500 / df[\"price\"], 5)\n",
    "    df[\"total_shares\"] = df['shares_purchased'].cumsum()\n",
    "    df[\"total_invested\"] = [500 + 500 * i for i in range(len(df))]\n",
    "    df[\"portfolio_value\"] = round(df.price * df.total_shares, 2)\n",
    "    df[\"valorization\"] = round((df.portfolio_value - df.total_invested) / df.total_invested * 100,1)\n",
    "    df['valorization'] = df.valorization.astype(str) + '%'\n",
    "    return df\n"
   ]
  },
  {
   "cell_type": "code",
   "execution_count": 43,
   "metadata": {},
   "outputs": [],
   "source": [
    "sp500_df: pd.DataFrame = csv_to_df_transformer(f\"..{os.sep}data{os.sep}sp500.csv\")\n",
    "sp500_df.to_excel(r'sp500_df.xlsx', index=False)"
   ]
  },
  {
   "cell_type": "code",
   "execution_count": 45,
   "metadata": {},
   "outputs": [],
   "source": [
    "euro_50_df: pd.DataFrame = csv_to_df_transformer(f\"..{os.sep}data{os.sep}euro_stoxx_50.csv\")\n",
    "euro_50_df.to_excel(r'euro_50_df.xlsx')"
   ]
  },
  {
   "cell_type": "code",
   "execution_count": 46,
   "metadata": {},
   "outputs": [],
   "source": [
    "shanghai_df: pd.DataFrame = csv_to_df_transformer(f\"..{os.sep}data{os.sep}shanghai.csv\")\n",
    "shanghai_df.to_excel(r'shanghai_df.xlsx')"
   ]
  },
  {
   "cell_type": "code",
   "execution_count": null,
   "metadata": {},
   "outputs": [],
   "source": [
    "nikkei_225_df: pd.DataFrame = csv_to_df_transformer(f\"..{os.sep}data{os.sep}nikkei_225.csv\")\n",
    "nikkei_225_df.to_excel(r'nikkei_225_df.xlsx')"
   ]
  }
 ],
 "metadata": {
  "kernelspec": {
   "display_name": "Python 3",
   "language": "python",
   "name": "python3"
  },
  "language_info": {
   "codemirror_mode": {
    "name": "ipython",
    "version": 3
   },
   "file_extension": ".py",
   "mimetype": "text/x-python",
   "name": "python",
   "nbconvert_exporter": "python",
   "pygments_lexer": "ipython3",
   "version": "3.11.0"
  },
  "orig_nbformat": 4,
  "vscode": {
   "interpreter": {
    "hash": "3eb51c3cff1cfe9d0bbd0a43108cda604f716d8c4a3951096c9ce5ae3792cec9"
   }
  }
 },
 "nbformat": 4,
 "nbformat_minor": 2
}
