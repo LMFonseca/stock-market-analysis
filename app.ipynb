{
 "cells": [
  {
   "cell_type": "code",
   "execution_count": 11,
   "metadata": {},
   "outputs": [
    {
     "name": "stdout",
     "output_type": "stream",
     "text": [
      "Total shares purchased: 154\n",
      "Total invested: $180000\n",
      "Average share price: $1165.74\n"
     ]
    },
    {
     "data": {
      "text/html": [
       "<div>\n",
       "<style scoped>\n",
       "    .dataframe tbody tr th:only-of-type {\n",
       "        vertical-align: middle;\n",
       "    }\n",
       "\n",
       "    .dataframe tbody tr th {\n",
       "        vertical-align: top;\n",
       "    }\n",
       "\n",
       "    .dataframe thead th {\n",
       "        text-align: right;\n",
       "    }\n",
       "</style>\n",
       "<table border=\"1\" class=\"dataframe\">\n",
       "  <thead>\n",
       "    <tr style=\"text-align: right;\">\n",
       "      <th></th>\n",
       "      <th>Date</th>\n",
       "      <th>price</th>\n",
       "      <th>shares_purchased</th>\n",
       "    </tr>\n",
       "  </thead>\n",
       "  <tbody>\n",
       "    <tr>\n",
       "      <th>0</th>\n",
       "      <td>01/04/93</td>\n",
       "      <td>435.38</td>\n",
       "      <td>1.148</td>\n",
       "    </tr>\n",
       "    <tr>\n",
       "      <th>1</th>\n",
       "      <td>02/01/93</td>\n",
       "      <td>442.52</td>\n",
       "      <td>1.130</td>\n",
       "    </tr>\n",
       "    <tr>\n",
       "      <th>2</th>\n",
       "      <td>03/01/93</td>\n",
       "      <td>442.01</td>\n",
       "      <td>1.131</td>\n",
       "    </tr>\n",
       "    <tr>\n",
       "      <th>3</th>\n",
       "      <td>04/01/93</td>\n",
       "      <td>450.30</td>\n",
       "      <td>1.110</td>\n",
       "    </tr>\n",
       "    <tr>\n",
       "      <th>4</th>\n",
       "      <td>05/03/93</td>\n",
       "      <td>442.46</td>\n",
       "      <td>1.130</td>\n",
       "    </tr>\n",
       "    <tr>\n",
       "      <th>...</th>\n",
       "      <td>...</td>\n",
       "      <td>...</td>\n",
       "      <td>...</td>\n",
       "    </tr>\n",
       "    <tr>\n",
       "      <th>355</th>\n",
       "      <td>08/01/22</td>\n",
       "      <td>4112.38</td>\n",
       "      <td>0.122</td>\n",
       "    </tr>\n",
       "    <tr>\n",
       "      <th>356</th>\n",
       "      <td>09/01/22</td>\n",
       "      <td>3936.73</td>\n",
       "      <td>0.127</td>\n",
       "    </tr>\n",
       "    <tr>\n",
       "      <th>357</th>\n",
       "      <td>10/03/22</td>\n",
       "      <td>3609.78</td>\n",
       "      <td>0.139</td>\n",
       "    </tr>\n",
       "    <tr>\n",
       "      <th>358</th>\n",
       "      <td>11/01/22</td>\n",
       "      <td>3901.79</td>\n",
       "      <td>0.128</td>\n",
       "    </tr>\n",
       "    <tr>\n",
       "      <th>359</th>\n",
       "      <td>12/01/22</td>\n",
       "      <td>4087.14</td>\n",
       "      <td>0.122</td>\n",
       "    </tr>\n",
       "  </tbody>\n",
       "</table>\n",
       "<p>360 rows × 3 columns</p>\n",
       "</div>"
      ],
      "text/plain": [
       "         Date    price  shares_purchased\n",
       "0    01/04/93   435.38             1.148\n",
       "1    02/01/93   442.52             1.130\n",
       "2    03/01/93   442.01             1.131\n",
       "3    04/01/93   450.30             1.110\n",
       "4    05/03/93   442.46             1.130\n",
       "..        ...      ...               ...\n",
       "355  08/01/22  4112.38             0.122\n",
       "356  09/01/22  3936.73             0.127\n",
       "357  10/03/22  3609.78             0.139\n",
       "358  11/01/22  3901.79             0.128\n",
       "359  12/01/22  4087.14             0.122\n",
       "\n",
       "[360 rows x 3 columns]"
      ]
     },
     "execution_count": 11,
     "metadata": {},
     "output_type": "execute_result"
    }
   ],
   "source": [
    "# SP500\n",
    "\n",
    "import pandas as pd\n",
    "\n",
    "sp500 = pd.read_csv(\"sp500_data.csv\", usecols=[0, 1], header=0)\n",
    "\n",
    "sp500[\"date\"] = pd.to_datetime(sp500[\"Date\"])\n",
    "sp500.rename(columns={\" Open\": \"price\"}, inplace=True)\n",
    "\n",
    "# Keep only the price of the first day of the month\n",
    "sp500 = sp500.resample(\"M\", on=\"date\").first().dropna().reset_index(drop=True)\n",
    "\n",
    "# Calculate how many shares can be purchased if invest $500 each month\n",
    "sp500[\"shares_purchased\"] = round(500 / sp500[\"price\"], 3)\n",
    "\n",
    "total_shares_purchased = sum(sp500[\"shares_purchased\"])\n",
    "total_invested = 12 * 30 * 500  # months * years * $500\n",
    "\n",
    "print(f\"Total shares purchased: {round(total_shares_purchased)}\")\n",
    "print(f\"Total invested: ${total_invested}\")\n",
    "print(f\"Average share price: ${round(total_invested / total_shares_purchased, 2)}\")\n",
    "\n",
    "sp500"
   ]
  },
  {
   "cell_type": "code",
   "execution_count": 12,
   "metadata": {},
   "outputs": [
    {
     "name": "stdout",
     "output_type": "stream",
     "text": [
      "Total shares purchased: 67\n",
      "Total invested: $180000\n",
      "Average share price: $2678.09\n"
     ]
    }
   ],
   "source": [
    "# EURO 50\n",
    "\n",
    "import pandas as pd\n",
    "\n",
    "euro_50 = pd.read_csv(\"euro_stoxx_50_data.csv\", usecols=[0, 1], header=0)\n",
    "\n",
    "euro_50[\"date\"] = pd.to_datetime(euro_50[\"Date\"])\n",
    "euro_50.rename(columns={\" Open\": \"price\"}, inplace=True)\n",
    "\n",
    "# Keep only the price of the first day of the month\n",
    "euro_50 = euro_50.resample(\"M\", on=\"date\").first().dropna().reset_index(drop=True)\n",
    "\n",
    "# Calculate how many shares can be purchased if invest $500 each month\n",
    "euro_50[\"shares_purchased\"] = round(500 / euro_50[\"price\"], 3)\n",
    "\n",
    "total_shares_purchased = sum(euro_50[\"shares_purchased\"])\n",
    "total_invested = 12 * 30 * 500  # months * years * $500\n",
    "\n",
    "print(f\"Total shares purchased: {round(total_shares_purchased)}\")\n",
    "print(f\"Total invested: ${total_invested}\")\n",
    "print(f\"Average share price: ${round(total_invested / total_shares_purchased, 2)}\")"
   ]
  },
  {
   "cell_type": "code",
   "execution_count": 13,
   "metadata": {},
   "outputs": [
    {
     "name": "stdout",
     "output_type": "stream",
     "text": [
      "Total shares purchased: 109\n",
      "Total invested: $180000\n",
      "Average share price: $1646.72\n"
     ]
    }
   ],
   "source": [
    "# Shanghai Index\n",
    "\n",
    "import pandas as pd\n",
    "\n",
    "shanghai = pd.read_csv(\"shanghai.csv\", usecols=[0, 1], header=0)\n",
    "\n",
    "shanghai[\"date\"] = pd.to_datetime(shanghai[\"Date\"])\n",
    "shanghai.rename(columns={\" Open\": \"price\"}, inplace=True)\n",
    "\n",
    "# Keep only the price of the first day of the month\n",
    "shanghai = shanghai.resample(\"M\", on=\"date\").first().dropna().reset_index(drop=True)\n",
    "\n",
    "# Calculate how many shares can be purchased if invest $500 each month\n",
    "shanghai[\"shares_purchased\"] = round(500 / shanghai[\"price\"], 3)\n",
    "\n",
    "total_shares_purchased = sum(shanghai[\"shares_purchased\"])\n",
    "total_invested = 12 * 30 * 500  # months * years * $500\n",
    "\n",
    "print(f\"Total shares purchased: {round(total_shares_purchased)}\")\n",
    "print(f\"Total invested: ${total_invested}\")\n",
    "print(f\"Average share price: ${round(total_invested / total_shares_purchased, 2)}\")"
   ]
  },
  {
   "cell_type": "code",
   "execution_count": 15,
   "metadata": {},
   "outputs": [
    {
     "name": "stdout",
     "output_type": "stream",
     "text": [
      "Total shares purchased: 12\n",
      "Total invested: $180000\n",
      "Average share price: $14622.26\n"
     ]
    }
   ],
   "source": [
    "# Nikkei 225\n",
    "\n",
    "import pandas as pd\n",
    "\n",
    "nikkei_225 = pd.read_csv(\"nikkei_225_data.csv\", usecols=[0, 1], header=0)\n",
    "\n",
    "nikkei_225[\"date\"] = pd.to_datetime(nikkei_225[\"Date\"])\n",
    "nikkei_225.rename(columns={\" Open\": \"price\"}, inplace=True)\n",
    "\n",
    "# Keep only the price of the first day of the month\n",
    "nikkei_225 = nikkei_225.resample(\"M\", on=\"date\").first().dropna().reset_index(drop=True)\n",
    "\n",
    "# Calculate how many shares can be purchased if invest $500 each month\n",
    "nikkei_225[\"shares_purchased\"] = round(500 / nikkei_225[\"price\"], 3)\n",
    "\n",
    "total_shares_purchased = sum(nikkei_225[\"shares_purchased\"])\n",
    "total_invested = 12 * 30 * 500  # months * years * $500\n",
    "\n",
    "print(f\"Total shares purchased: {round(total_shares_purchased)}\")\n",
    "print(f\"Total invested: ${total_invested}\")\n",
    "print(f\"Average share price: ${round(total_invested / total_shares_purchased, 2)}\")"
   ]
  }
 ],
 "metadata": {
  "kernelspec": {
   "display_name": "Python 3.11.0 64-bit",
   "language": "python",
   "name": "python3"
  },
  "language_info": {
   "codemirror_mode": {
    "name": "ipython",
    "version": 3
   },
   "file_extension": ".py",
   "mimetype": "text/x-python",
   "name": "python",
   "nbconvert_exporter": "python",
   "pygments_lexer": "ipython3",
   "version": "3.11.0"
  },
  "orig_nbformat": 4,
  "vscode": {
   "interpreter": {
    "hash": "5c7b89af1651d0b8571dde13640ecdccf7d5a6204171d6ab33e7c296e100e08a"
   }
  }
 },
 "nbformat": 4,
 "nbformat_minor": 2
}
